{
 "cells": [
  {
   "cell_type": "code",
   "execution_count": 1,
   "metadata": {},
   "outputs": [],
   "source": [
    "import pandas as pd\n",
    "import numpy as np\n",
    "%matplotlib inline\n",
    "import matplotlib as mpl\n",
    "from matplotlib import colors\n",
    "import seaborn as sns\n",
    "import matplotlib.pyplot as plt\n",
    "from scipy import stats\n",
    "import statsmodels.api as sm\n",
    "mpl.rcParams['font.sans-serif'] = \"AppleGothic\"\n",
    "pd.set_option('display.max_rows', 80)\n",
    "pd.set_option('display.max_columns', 60)"
   ]
  },
  {
   "cell_type": "code",
   "execution_count": 2,
   "metadata": {},
   "outputs": [],
   "source": [
    "dist_list= [\"ALACHUA\", \"BAKER\", \"BAY\", \"BRADFORD\", \"BREVARD\", \"BROWARD\", \"CALHOUN\", \"CHARLOTTE\", \"CITRUS\", \"CLAY\", \"COLLIER\", \"COLUMBIA\", \"MIAMI-DADE\", \"DESOTO\", \"DIXIE\", \"DUVAL\", \"ESCAMBIA\", \"FLAGLER\", \"FRANKLIN\", \"GADSDEN\", \"GILCHRIST\", \"GLADES\", \"GULF\", \"HAMILTON\", \"HARDEE\", \"HENDRY\", \"HERNANDO\", \"HIGHLANDS\", \"HILLSBOROUGH\", \"HOLMES\", \"INDIAN_RIVER\", \"JACKSON\", \"JEFFERSON\", \"LAFAYETTE\", \"LAKE\", \"LEE\", \"LEON\", \"LEVY\", \"LIBERTY\", \"MADISON\", \"MANATEE\", \"MARION\", \"MARTIN\", \"MONROE\", \"NASSAU\", \"OKALOOSA\", \"OKEECHOBEE\", \"ORANGE\", \"OSCEOLA\", \"PALM_BEACH\", \"PASCO\", \"PINELLAS\", \"POLK\", \"PUTNAM\", \"ST_JOHNS\", \"ST_LUCIE\", \"SANTA_ROSA\", \"SARASOTA\", \"SEMINOLE\", \"SUMTER\", \"SUWANNEE\", \"TAYLOR\", \"UNION\", \"VOLUSIA\", \"WAKULLA\", \"WALTON\", \"WASHINGTON\", \"DEAF_BLIND\", \"FL_VIRTUAL\", \"FAU_LAB_SCH\", \"FSU_LAB_SCH\", \"FAMU_LAB_SCH\", \"UF_LAB_SCH\"]\n",
    "#dist_list= [\"ALACHUA\"]"
   ]
  },
  {
   "cell_type": "code",
   "execution_count": 3,
   "metadata": {},
   "outputs": [],
   "source": [
    "intro_text = \"*Notes*\" + \"\\r\" + \"- See comments about the source data on [the page that brought you here](https://adamlamee.github.io/FL-K12-analyses/plots/District_pages/district_name.html).  \\r\" + \"- Only schools with total biology enrollment exceeding a threshold (around 100 students) are included. That makes it less likely a high school was excluded, though it may mean some middle schools were included.  \"\n"
   ]
  },
  {
   "cell_type": "code",
   "execution_count": 6,
   "metadata": {},
   "outputs": [],
   "source": [
    "for i in dist_list:\n",
    "    string1 = \")\" + \"\\n\" + \"![](../School_plots/\" + i +\"/\"\n",
    "    heading_new = \"# Schools in \" + i.title() + \"  \\r\" + intro_text\n",
    "    with open(\"../plots/District_pages/\" + i + \"_list.txt\", \"r\") as fin:\n",
    "        name = \"../plots/District_pages/\" + i + \"_schools.md\"\n",
    "        with open(name, \"w\") as fout:\n",
    "            for line in fin:\n",
    "                fout.write(line.replace(' ', string1).replace('heading', heading_new).replace('district_name',i.title()))"
   ]
  },
  {
   "cell_type": "code",
   "execution_count": null,
   "metadata": {},
   "outputs": [],
   "source": []
  }
 ],
 "metadata": {
  "kernelspec": {
   "display_name": "Python 3",
   "language": "python",
   "name": "python3"
  },
  "language_info": {
   "codemirror_mode": {
    "name": "ipython",
    "version": 3
   },
   "file_extension": ".py",
   "mimetype": "text/x-python",
   "name": "python",
   "nbconvert_exporter": "python",
   "pygments_lexer": "ipython3",
   "version": "3.7.1"
  }
 },
 "nbformat": 4,
 "nbformat_minor": 2
}
