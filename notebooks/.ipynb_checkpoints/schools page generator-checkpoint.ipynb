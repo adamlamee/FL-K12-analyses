{
 "cells": [
  {
   "cell_type": "code",
   "execution_count": 1,
   "metadata": {},
   "outputs": [],
   "source": [
    "import pandas as pd\n",
    "import numpy as np\n",
    "%matplotlib inline\n",
    "import matplotlib as mpl\n",
    "from matplotlib import colors\n",
    "import seaborn as sns\n",
    "import matplotlib.pyplot as plt\n",
    "from scipy import stats\n",
    "import statsmodels.api as sm\n",
    "mpl.rcParams['font.sans-serif'] = \"AppleGothic\"\n",
    "pd.set_option('display.max_rows', 80)\n",
    "pd.set_option('display.max_columns', 60)"
   ]
  },
  {
   "cell_type": "code",
   "execution_count": 2,
   "metadata": {},
   "outputs": [],
   "source": [
    "#dist_list= [\"ALACHUA\", \"BAKER\", \"BAY\", \"BRADFORD\", \"BREVARD\", \"BROWARD\", \"CALHOUN\", \"CHARLOTTE\", \"CITRUS\", \"CLAY\", \"COLLIER\", \"COLUMBIA\", \"MIAMI-DADE\", \"DESOTO\", \"DIXIE\", \"DUVAL\", \"ESCAMBIA\", \"FLAGLER\", \"FRANKLIN\", \"GADSDEN\", \"GILCHRIST\", \"GLADES\", \"GULF\", \"HAMILTON\", \"HARDEE\", \"HENDRY\", \"HERNANDO\", \"HIGHLANDS\", \"HILLSBOROUGH\", \"HOLMES\", \"INDIAN_RIVER\", \"JACKSON\", \"JEFFERSON\", \"LAFAYETTE\", \"LAKE\", \"LEE\", \"LEON\", \"LEVY\", \"LIBERTY\", \"MADISON\", \"MANATEE\", \"MARION\", \"MARTIN\", \"MONROE\", \"NASSAU\", \"OKALOOSA\", \"OKEECHOBEE\", \"ORANGE\", \"OSCEOLA\", \"PALM_BEACH\", \"PASCO\", \"PINELLAS\", \"POLK\", \"PUTNAM\", \"ST_JOHNS\", \"ST_LUCIE\", \"SANTA_ROSA\", \"SARASOTA\", \"SEMINOLE\", \"SUMTER\", \"SUWANNEE\", \"TAYLOR\", \"UNION\", \"VOLUSIA\", \"WAKULLA\", \"WALTON\", \"WASHINGTON\", \"DEAF_BLIND\", \"FL_VIRTUAL\", \"FAU_LAB_SCH\", \"FSU_LAB_SCH\", \"FAMU_LAB_SCH\", \"UF_LAB_SCH\"]\n",
    "dist_list= [\"ALACHUA\"]"
   ]
  },
  {
   "cell_type": "code",
   "execution_count": 7,
   "metadata": {},
   "outputs": [],
   "source": [
    "string1 = \"![](\"\n",
    "string2 = \")\" + \"\\r\" + string1"
   ]
  },
  {
   "cell_type": "code",
   "execution_count": 8,
   "metadata": {},
   "outputs": [],
   "source": [
    "for i in dist_list:\n",
    "    with open(\"../plots/new/\" + i + \"_schools.md\", \"r\") as fin:\n",
    "        name = \"../plots/new/\" + i + \"_schools2.md\"\n",
    "        with open(name, \"w\") as fout:\n",
    "            for line in fin:\n",
    "                fout.write(line.replace(' ', string2).replace('heading', \"This file totally RULES!\"))"
   ]
  },
  {
   "cell_type": "code",
   "execution_count": null,
   "metadata": {},
   "outputs": [],
   "source": []
  }
 ],
 "metadata": {
  "kernelspec": {
   "display_name": "Python 3",
   "language": "python",
   "name": "python3"
  },
  "language_info": {
   "codemirror_mode": {
    "name": "ipython",
    "version": 3
   },
   "file_extension": ".py",
   "mimetype": "text/x-python",
   "name": "python",
   "nbconvert_exporter": "python",
   "pygments_lexer": "ipython3",
   "version": "3.7.1"
  }
 },
 "nbformat": 4,
 "nbformat_minor": 2
}
